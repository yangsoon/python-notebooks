{
 "cells": [
  {
   "cell_type": "markdown",
   "metadata": {},
   "source": [
    "### 全局解释器锁(GIL)\n",
    "python代码的执行由python虚拟机来控制。python在设计之初就考虑到要在主循环中，同时只有一个线程在执行，就像单cpu的系统中运行多个进程那样，内存中可以存放多个程序，但任意时刻只有一个程序在cpu中运行。同样，虽然python解释器可以运行多个线程，但在任意时刻只有一个线程在解释器中运行。\n",
    "对python虚拟机的访问由全局解释器锁 GIL来控制。\n",
    "在多线程环境中 python虚拟机按以下方式执行。\n",
    "1. 设置GIL\n",
    "2. 切换到一个线程去运行\n",
    "3. 运行：\n",
    "    a. 指定数量的字节码的指令 或者\n",
    "    b. 线程主动让出控制\n",
    "4. 把线程设置为睡眠状态\n",
    "5. 解锁GIL\n",
    "6. 再重复上面的所有步骤\n",
    "\n",
    "在所有面向I/O的程序来说，GIL会在这个I/O调用之前被释放，以运行其他的线程在这个线程等待I/O的时候运行"
   ]
  },
  {
   "cell_type": "code",
   "execution_count": 1,
   "metadata": {},
   "outputs": [],
   "source": [
    "import threading"
   ]
  },
  {
   "cell_type": "markdown",
   "metadata": {},
   "source": [
    "| threading模块对象 | 描述  |\n",
    "|:--------------: | :----:|\n",
    "|Thread           | 表示一个线程的执行的对象|\n",
    "|Lock             | 锁原语对象|\n",
    "|RLock            | 可重入锁对象 使单线程可以再次获得已经获得了的锁 递归锁定|\n",
    "|Condition        | 条件变量对象能让一个线程停下来，等待其他线程满足某个条件 如 状态的改变或值的改变|\n",
    "|Event            | 通用的条件变量 多个线程可以等待某个事件的发生 在事件发生之后 所有的线程都被激活|\n",
    "|Semaphore        | 为等待锁的线程提供一个类似等候室的结构  |\n",
    "|BoundedSemaphore | 与Semaphore类似 只是他不允许超过初始值 |\n",
    "|Timer            | 与Thread相似 只是他要等待一段时间后才开始运行 |"
   ]
  },
  {
   "cell_type": "markdown",
   "metadata": {},
   "source": [
    "#### 实例化每个Thread对象 我们把函数和参数传进去"
   ]
  },
  {
   "cell_type": "code",
   "execution_count": 2,
   "metadata": {},
   "outputs": [],
   "source": [
    "from time import sleep, ctime"
   ]
  },
  {
   "cell_type": "code",
   "execution_count": 3,
   "metadata": {},
   "outputs": [],
   "source": [
    "loops = [4, 2]"
   ]
  },
  {
   "cell_type": "code",
   "execution_count": 4,
   "metadata": {},
   "outputs": [],
   "source": [
    "def loop(nloop, nsec):\n",
    "    print('start loop{} at: {}'.format(nloop, ctime()))\n",
    "    sleep(nsec)\n",
    "    print('loop{} done at: {}'.format(nloop, ctime()))"
   ]
  },
  {
   "cell_type": "code",
   "execution_count": 5,
   "metadata": {},
   "outputs": [],
   "source": [
    "def mtsleep1():\n",
    "    print('starting at: {}'.format(ctime()))\n",
    "    threads = []\n",
    "    nloops = range(len(loops))\n",
    "    \n",
    "    for i in nloops:\n",
    "        t = threading.Thread(target=loop, args=(i, loops[i]))\n",
    "        threads.append(t)\n",
    "    \n",
    "    for i in nloops:        # start threads\n",
    "        threads[i].start()\n",
    "    \n",
    "    for i in nloops:        # wait for all\n",
    "        threads[i].join()   # threads to finish\n",
    "    \n",
    "    print('all DONE at: {}'.format(ctime()))"
   ]
  },
  {
   "cell_type": "code",
   "execution_count": 6,
   "metadata": {},
   "outputs": [
    {
     "name": "stdout",
     "output_type": "stream",
     "text": [
      "starting at: Fri Mar  2 22:18:26 2018\n",
      "start loop0 at: Fri Mar  2 22:18:26 2018\n",
      "start loop1 at: Fri Mar  2 22:18:26 2018\n",
      "loop1 done at: Fri Mar  2 22:18:28 2018\n",
      "loop0 done at: Fri Mar  2 22:18:30 2018\n",
      "all DONE at: Fri Mar  2 22:18:30 2018\n"
     ]
    }
   ],
   "source": [
    "mtsleep1()"
   ]
  },
  {
   "cell_type": "markdown",
   "metadata": {},
   "source": [
    "join()会等到所有线程结束 join的另一个重要的方面是可以完全不用调用 \n",
    "** 一旦线程启动 就会一直运行 之一等到线程的函数结束 退出为止\n",
    "如果你的主线程出来等待线程结束外还有其他的事情要做 如处理或者等待其他的客户请求 那就不要调用join 只有你要等待线程结束的时候才要调用join **"
   ]
  },
  {
   "cell_type": "markdown",
   "metadata": {},
   "source": [
    "#### 创建一个Thread实例 传给他一个可调用的类对象"
   ]
  },
  {
   "cell_type": "code",
   "execution_count": 7,
   "metadata": {},
   "outputs": [],
   "source": [
    "class ThreadFunc:\n",
    "    \n",
    "    def __init__(self, func, args, name=''):\n",
    "        self.name = name\n",
    "        self.func = func\n",
    "        self.args = args\n",
    "    \n",
    "    def __call__(self):\n",
    "        self.func(*self.args) ## python3 取消 apply() 使用 *， ** 展开参数"
   ]
  },
  {
   "cell_type": "code",
   "execution_count": 8,
   "metadata": {},
   "outputs": [],
   "source": [
    "def mtslepp2():\n",
    "    print('starting at: {}'.format(ctime()))\n",
    "    threads = []\n",
    "    nloops = range(len(loops))\n",
    "    \n",
    "    for i in nloops:\n",
    "        t = threading.Thread(target=ThreadFunc(\n",
    "            loop, (i, loops[i]), \n",
    "            loop.__name__))\n",
    "        threads.append(t)\n",
    "    \n",
    "    for i in nloops:        # start threads\n",
    "        threads[i].start()\n",
    "    \n",
    "    for i in nloops:        # wait for completion\n",
    "        threads[i].join()   \n",
    "    \n",
    "    print('all DONE at: {}'.format(ctime()))"
   ]
  },
  {
   "cell_type": "code",
   "execution_count": 9,
   "metadata": {},
   "outputs": [
    {
     "name": "stdout",
     "output_type": "stream",
     "text": [
      "starting at: Fri Mar  2 22:18:30 2018\n",
      "start loop0 at: Fri Mar  2 22:18:30 2018\n",
      "start loop1 at: Fri Mar  2 22:18:30 2018\n",
      "loop1 done at: Fri Mar  2 22:18:32 2018\n",
      "loop0 done at: Fri Mar  2 22:18:34 2018\n",
      "all DONE at: Fri Mar  2 22:18:34 2018\n"
     ]
    }
   ],
   "source": [
    "mtslepp2()"
   ]
  },
  {
   "cell_type": "markdown",
   "metadata": {},
   "source": [
    "传入一个可调用的类的实例供线程启动的时候执行"
   ]
  },
  {
   "cell_type": "markdown",
   "metadata": {},
   "source": [
    "#### 子类化一个Thread类 使其更加通用"
   ]
  },
  {
   "cell_type": "code",
   "execution_count": 10,
   "metadata": {},
   "outputs": [],
   "source": [
    "class MyThread(threading.Thread):\n",
    "    \n",
    "    def __init__(self, func, args, name=''):\n",
    "        threading.Thread.__init__(self) # 子类构造器一定要先调用父类的构造器\n",
    "        self.func = func\n",
    "        self.args = args\n",
    "        self.name = name\n",
    "    \n",
    "    def getResult(self):\n",
    "        return self.res\n",
    "    \n",
    "    # 线程运行时 自动执行Thread的run方法 下面我们重写父类的run方法\n",
    "    def run(self):     \n",
    "        print('starting {} at: {}'.format(self.name, ctime()))\n",
    "        self.res = self.func(*self.args)\n",
    "        print('{} finished at: {}'.format(self.name, ctime()))"
   ]
  },
  {
   "cell_type": "code",
   "execution_count": 11,
   "metadata": {},
   "outputs": [],
   "source": [
    "def mtslepp3():\n",
    "    print('starting at: {}'.format(ctime()))\n",
    "    threads = []\n",
    "    nloops = range(len(loops))\n",
    "    \n",
    "    for i in nloops:\n",
    "        t = MyThread(loop,(i, loops[i]), loop.__name__)\n",
    "        threads.append(t)\n",
    "    \n",
    "    for i in nloops:        # start threads\n",
    "        threads[i].start()\n",
    "    \n",
    "    for i in nloops:        # wait for completion\n",
    "        threads[i].join()   \n",
    "    \n",
    "    print('all DONE at: {}'.format(ctime()))"
   ]
  },
  {
   "cell_type": "code",
   "execution_count": 12,
   "metadata": {},
   "outputs": [
    {
     "name": "stdout",
     "output_type": "stream",
     "text": [
      "starting at: Fri Mar  2 22:18:34 2018\n",
      "starting loop at: Fri Mar  2 22:18:34 2018\n",
      "start loop0 at: Fri Mar  2 22:18:34 2018\n",
      "starting loop at: Fri Mar  2 22:18:34 2018\n",
      "start loop1 at: Fri Mar  2 22:18:34 2018\n",
      "loop1 done at: Fri Mar  2 22:18:36 2018\n",
      "loop finished at: Fri Mar  2 22:18:36 2018\n",
      "loop0 done at: Fri Mar  2 22:18:38 2018\n",
      "loop finished at: Fri Mar  2 22:18:38 2018\n",
      "all DONE at: Fri Mar  2 22:18:38 2018\n"
     ]
    }
   ],
   "source": [
    "mtslepp3()"
   ]
  },
  {
   "cell_type": "code",
   "execution_count": 13,
   "metadata": {},
   "outputs": [
    {
     "data": {
      "text/plain": [
       "[4, 2]"
      ]
     },
     "execution_count": 13,
     "metadata": {},
     "output_type": "execute_result"
    }
   ],
   "source": [
    "loops"
   ]
  },
  {
   "cell_type": "markdown",
   "metadata": {},
   "source": [
    "#### 斐波那契 阶乘和累加和"
   ]
  },
  {
   "cell_type": "code",
   "execution_count": 14,
   "metadata": {},
   "outputs": [],
   "source": [
    "def fib(x):\n",
    "    sleep(0.005)\n",
    "    if x < 2: return 1\n",
    "    return (fib(x-2) + fib(x-1))\n",
    "\n",
    "def fac(x):\n",
    "    sleep(0.1)\n",
    "    if x < 2: return 1\n",
    "    return (x * fac(x-1))\n",
    "\n",
    "def sum(x):\n",
    "    sleep(0.1)\n",
    "    if x < 2: return 1\n",
    "    return (x + sum(x-1))\n",
    "\n",
    "funcs = [fib, fac, sum]\n",
    "\n",
    "n = 12"
   ]
  },
  {
   "cell_type": "code",
   "execution_count": 15,
   "metadata": {},
   "outputs": [],
   "source": [
    "def mix_single_thread():\n",
    "    nfuncs = range(len(funcs))\n",
    "    \n",
    "    for i in nfuncs:\n",
    "        print('starting {} at:{}'.format(funcs[i].__name__, ctime()))\n",
    "        print(funcs[i](n))\n",
    "        print('{} finished at:{}'.format(funcs[i].__name__, ctime()))"
   ]
  },
  {
   "cell_type": "code",
   "execution_count": 16,
   "metadata": {},
   "outputs": [],
   "source": [
    "def mix_multiple_threads():\n",
    "    threads = []\n",
    "    nfuncs = range(len(funcs))\n",
    "    \n",
    "    for i in nfuncs:\n",
    "        t = MyThread(funcs[i], (n,), funcs[i].__name__)\n",
    "        threads.append(t)\n",
    "    \n",
    "    for i in nfuncs:\n",
    "        threads[i].start()\n",
    "        \n",
    "    for i in nfuncs:\n",
    "        threads[i].join()\n",
    "        print(threads[i].getResult())\n",
    "    \n",
    "    print('all DONE')"
   ]
  },
  {
   "cell_type": "code",
   "execution_count": 17,
   "metadata": {},
   "outputs": [
    {
     "name": "stdout",
     "output_type": "stream",
     "text": [
      "starting fib at:Fri Mar  2 22:18:38 2018\n",
      "233\n",
      "fib finished at:Fri Mar  2 22:18:41 2018\n",
      "starting fac at:Fri Mar  2 22:18:41 2018\n",
      "479001600\n",
      "fac finished at:Fri Mar  2 22:18:42 2018\n",
      "starting sum at:Fri Mar  2 22:18:42 2018\n",
      "78\n",
      "sum finished at:Fri Mar  2 22:18:44 2018\n"
     ]
    }
   ],
   "source": [
    "mix_single_thread()"
   ]
  },
  {
   "cell_type": "code",
   "execution_count": 18,
   "metadata": {},
   "outputs": [
    {
     "name": "stdout",
     "output_type": "stream",
     "text": [
      "starting fib at: Fri Mar  2 22:18:44 2018\n",
      "starting fac at: Fri Mar  2 22:18:44 2018\n",
      "starting sum at: Fri Mar  2 22:18:44 2018\n",
      "fac finished at: Fri Mar  2 22:18:45 2018sum finished at: Fri Mar  2 22:18:45 2018\n",
      "\n",
      "fib finished at: Fri Mar  2 22:18:46 2018\n",
      "233\n",
      "479001600\n",
      "78\n",
      "all DONE\n"
     ]
    }
   ],
   "source": [
    "mix_multiple_threads()"
   ]
  },
  {
   "cell_type": "markdown",
   "metadata": {},
   "source": [
    "#### 生产者-消费者问题和Queue模块"
   ]
  },
  {
   "cell_type": "markdown",
   "metadata": {},
   "source": [
    "Queue模块可以用来进行线程间通讯，让各个线程之间共享数据，现在我们要创建一个队列，让生产者把新生产的货物放进去供消费者使用。"
   ]
  },
  {
   "cell_type": "code",
   "execution_count": 19,
   "metadata": {},
   "outputs": [],
   "source": [
    "from random import randint\n",
    "from queue import Queue # python3 中 Queue 改名为 queue"
   ]
  },
  {
   "cell_type": "code",
   "execution_count": 20,
   "metadata": {},
   "outputs": [],
   "source": [
    "def writeQ(queue):\n",
    "    print('producing object for Q...')\n",
    "    queue.put('xxx', 1)  # put(item, block=0) Queue对象函数 把item放到队列中 如果block不为0，函数会一直阻塞到队列中有空间为止\n",
    "    print('size now {}'.format(queue.qsize())) # 返回队列大小 \n",
    "\n",
    "def readQ(queue):\n",
    "    val = queue.get(1)   # get(block=0) Queue对象函数 从队列取出对象 如果block不为0，函数会一直阻塞到队列中有对象为止\n",
    "    print('consumed object from Q...')\n",
    "    print('size now {}'.format(queue.qsize()))\n",
    "\n",
    "def writer(queue, loops):\n",
    "    for i in range(loops):\n",
    "        writeQ(queue)\n",
    "        sleep(randint(1, 3))\n",
    "\n",
    "def reader(queue, loops):\n",
    "    for i in range(loops):\n",
    "        readQ(queue)\n",
    "        sleep(randint(2, 5))\n",
    "\n",
    "funcs = [writer, reader]\n",
    "nfuncs = range(len(funcs))"
   ]
  },
  {
   "cell_type": "code",
   "execution_count": 21,
   "metadata": {},
   "outputs": [],
   "source": [
    "def pcQuestion():\n",
    "    nloops = randint(2, 5)\n",
    "    q = Queue(32) # 创建大小为32的队列\n",
    "    \n",
    "    threads = []\n",
    "    \n",
    "    for i in nfuncs:\n",
    "        t = MyThread(funcs[i], (q, nloops), funcs[i].__name__)\n",
    "        threads.append(t)\n",
    "        \n",
    "    for i in nfuncs:\n",
    "        threads[i].start()\n",
    "    \n",
    "    for i in nfuncs:\n",
    "        threads[i].join()\n",
    "    \n",
    "    print('all DONE')"
   ]
  },
  {
   "cell_type": "code",
   "execution_count": 22,
   "metadata": {},
   "outputs": [
    {
     "name": "stdout",
     "output_type": "stream",
     "text": [
      "starting writer at: Fri Mar  2 22:18:46 2018\n",
      "producing object for Q...\n",
      "size now 1\n",
      "starting reader at: Fri Mar  2 22:18:46 2018\n",
      "consumed object from Q...\n",
      "size now 0\n",
      "producing object for Q...\n",
      "size now 1\n",
      "consumed object from Q...\n",
      "size now 0\n",
      "producing object for Q...\n",
      "size now 1\n",
      "writer finished at: Fri Mar  2 22:18:53 2018\n",
      "consumed object from Q...\n",
      "size now 0\n",
      "reader finished at: Fri Mar  2 22:18:59 2018\n",
      "all DONE\n"
     ]
    }
   ],
   "source": [
    "pcQuestion()"
   ]
  },
  {
   "cell_type": "code",
   "execution_count": null,
   "metadata": {},
   "outputs": [],
   "source": []
  }
 ],
 "metadata": {
  "kernelspec": {
   "display_name": "Python 3",
   "language": "python",
   "name": "python3"
  },
  "language_info": {
   "codemirror_mode": {
    "name": "ipython",
    "version": 3
   },
   "file_extension": ".py",
   "mimetype": "text/x-python",
   "name": "python",
   "nbconvert_exporter": "python",
   "pygments_lexer": "ipython3",
   "version": "3.6.4"
  }
 },
 "nbformat": 4,
 "nbformat_minor": 2
}
