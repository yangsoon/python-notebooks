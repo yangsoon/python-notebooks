{
 "cells": [
  {
   "cell_type": "markdown",
   "metadata": {},
   "source": [
    "### 全局解释器锁(GIL)\n",
    "python代码的执行由python虚拟机来控制。python在设计之初就考虑到要在主循环中，同时只有一个线程在执行，就像单cpu的系统中运行多个进程那样，内存中可以存放多个程序，但任意时刻只有一个程序在cpu中运行。同样，虽然python解释器可以运行多个线程，但在任意时刻只有一个线程在解释器中运行。\n",
    "对python虚拟机的访问由全局解释器锁 GIL来控制。\n",
    "在多线程环境中 python虚拟机按以下方式执行。\n",
    "1. 设置GIL\n",
    "2. 切换到一个线程去运行\n",
    "3. 运行：\n",
    "    a. 指定数量的字节码的指令 或者\n",
    "    b. 线程主动让出控制\n",
    "4. 把线程设置为睡眠状态\n",
    "5. 解锁GIL\n",
    "6. 再重复上面的所有步骤\n",
    "\n",
    "在所有面向I/O的程序来说，GIL会在这个I/O调用之前被释放，以运行其他的线程在这个线程等待I/O的时候运行 <br>\n",
    "标准库中的 time.sleep 也会让出GIL"
   ]
  },
  {
   "cell_type": "code",
   "execution_count": null,
   "metadata": {},
   "outputs": [],
   "source": [
    "import threading"
   ]
  },
  {
   "cell_type": "markdown",
   "metadata": {},
   "source": [
    "| threading模块对象 | 描述  |\n",
    "|:--------------: | :----:|\n",
    "|Thread           | 表示一个线程的执行的对象|\n",
    "|Lock             | 锁原语对象|\n",
    "|RLock            | 可重入锁对象 使单线程可以再次获得已经获得了的锁 递归锁定|\n",
    "|Condition        | 条件变量对象能让一个线程停下来，等待其他线程满足某个条件 如 状态的改变或值的改变|\n",
    "|Event            | 通用的条件变量 多个线程可以等待某个事件的发生 在事件发生之后 所有的线程都被激活|\n",
    "|Semaphore(信号量) | 为等待锁的线程提供一个类似等候室的结构  |\n",
    "|BoundedSemaphore | 与Semaphore类似 只是他不允许超过初始值 |\n",
    "|Timer            | 与Thread相似 只是他要等待一段时间后才开始运行 |"
   ]
  },
  {
   "cell_type": "markdown",
   "metadata": {},
   "source": [
    "#### 实例化每个Thread对象 我们把函数和参数传进去"
   ]
  },
  {
   "cell_type": "code",
   "execution_count": null,
   "metadata": {},
   "outputs": [],
   "source": [
    "from time import sleep, ctime"
   ]
  },
  {
   "cell_type": "code",
   "execution_count": null,
   "metadata": {},
   "outputs": [],
   "source": [
    "loops = [4, 2]"
   ]
  },
  {
   "cell_type": "code",
   "execution_count": null,
   "metadata": {},
   "outputs": [],
   "source": [
    "def loop(nloop, nsec):\n",
    "    print('start loop{} at: {}'.format(nloop, ctime()))\n",
    "    sleep(nsec)\n",
    "    print('loop{} done at: {}'.format(nloop, ctime()))"
   ]
  },
  {
   "cell_type": "code",
   "execution_count": null,
   "metadata": {},
   "outputs": [],
   "source": [
    "def mtsleep1():\n",
    "    print('starting at: {}'.format(ctime()))\n",
    "    threads = []\n",
    "    nloops = range(len(loops))\n",
    "    \n",
    "    for i in nloops:\n",
    "        t = threading.Thread(target=loop, args=(i, loops[i]))\n",
    "        threads.append(t)\n",
    "    \n",
    "    for i in nloops:        # start threads\n",
    "        threads[i].start()\n",
    "    \n",
    "    for i in nloops:        # wait for all\n",
    "        threads[i].join()   # threads to finish\n",
    "    \n",
    "    print('all DONE at: {}'.format(ctime()))"
   ]
  },
  {
   "cell_type": "code",
   "execution_count": null,
   "metadata": {},
   "outputs": [],
   "source": [
    "mtsleep1()"
   ]
  },
  {
   "cell_type": "markdown",
   "metadata": {},
   "source": [
    "join()会等到所有线程结束 join的另一个重要的方面是可以完全不用调用 \n",
    "** 一旦线程启动 就会一直运行 之一等到线程的函数结束 退出为止\n",
    "如果你的主线程出来等待线程结束外还有其他的事情要做 如处理或者等待其他的客户请求 那就不要调用join 只有你要等待线程结束的时候才要调用join **"
   ]
  },
  {
   "cell_type": "markdown",
   "metadata": {},
   "source": [
    "#### join可以理解为 子线程加入到主线程 主线程被阻塞\n",
    "\n",
    "1. join方法的作用是阻塞主进程（挡住，无法执行join以后的语句），专注执行多线程。\n",
    "\n",
    "2. 多线程多join的情况下，依次执行各线程的join方法，前头一个结束了才能执行后面一个。\n",
    "\n",
    "3. 无参数，则等待到该线程结束，才开始执行下一个线程的join。\n",
    "\n",
    "4. 设置参数后，则等待该线程这么长时间就不管它了（而该线程并没有结束）。不管的意思就是可以执行后面的主进程了"
   ]
  },
  {
   "cell_type": "markdown",
   "metadata": {},
   "source": [
    "#### 创建一个Thread实例 传给他一个可调用的类对象"
   ]
  },
  {
   "cell_type": "code",
   "execution_count": null,
   "metadata": {},
   "outputs": [],
   "source": [
    "class ThreadFunc:\n",
    "    \n",
    "    def __init__(self, func, args, name=''):\n",
    "        self.name = name\n",
    "        self.func = func\n",
    "        self.args = args\n",
    "    \n",
    "    def __call__(self):\n",
    "        self.func(*self.args) ## python3 取消 apply() 使用 *， ** 展开参数"
   ]
  },
  {
   "cell_type": "code",
   "execution_count": null,
   "metadata": {},
   "outputs": [],
   "source": [
    "def mtslepp2():\n",
    "    print('starting at: {}'.format(ctime()))\n",
    "    threads = []\n",
    "    nloops = range(len(loops))\n",
    "    \n",
    "    for i in nloops:\n",
    "        t = threading.Thread(target=ThreadFunc(\n",
    "            loop, (i, loops[i]), \n",
    "            loop.__name__))\n",
    "        threads.append(t)\n",
    "    \n",
    "    for i in nloops:        # start threads\n",
    "        threads[i].start()\n",
    "    \n",
    "    for i in nloops:        # wait for completion\n",
    "        threads[i].join()   \n",
    "    \n",
    "    print('all DONE at: {}'.format(ctime()))"
   ]
  },
  {
   "cell_type": "code",
   "execution_count": null,
   "metadata": {},
   "outputs": [],
   "source": [
    "mtslepp2()"
   ]
  },
  {
   "cell_type": "markdown",
   "metadata": {},
   "source": [
    "传入一个可调用的类的实例供线程启动的时候执行"
   ]
  },
  {
   "cell_type": "markdown",
   "metadata": {},
   "source": [
    "#### 子类化一个Thread类 使其更加通用"
   ]
  },
  {
   "cell_type": "code",
   "execution_count": null,
   "metadata": {},
   "outputs": [],
   "source": [
    "class MyThread(threading.Thread):\n",
    "    \n",
    "    def __init__(self, func, args, name=''):\n",
    "        threading.Thread.__init__(self) # 子类构造器一定要先调用父类的构造器\n",
    "        self.func = func\n",
    "        self.args = args\n",
    "        self.name = name\n",
    "    \n",
    "    def getResult(self):\n",
    "        return self.res\n",
    "    \n",
    "    # 线程运行时 自动执行Thread的run方法 下面我们重写父类的run方法\n",
    "    def run(self):     \n",
    "        print('starting {} at: {}'.format(self.name, ctime()))\n",
    "        self.res = self.func(*self.args)\n",
    "        print('{} finished at: {}'.format(self.name, ctime()))"
   ]
  },
  {
   "cell_type": "code",
   "execution_count": null,
   "metadata": {},
   "outputs": [],
   "source": [
    "def mtslepp3():\n",
    "    print('starting at: {}'.format(ctime()))\n",
    "    threads = []\n",
    "    nloops = range(len(loops))\n",
    "    \n",
    "    for i in nloops:\n",
    "        t = MyThread(loop,(i, loops[i]), loop.__name__)\n",
    "        threads.append(t)\n",
    "    \n",
    "    for i in nloops:        # start threads\n",
    "        threads[i].start()\n",
    "    \n",
    "    for i in nloops:        # wait for completion\n",
    "        threads[i].join()   \n",
    "    \n",
    "    print('all DONE at: {}'.format(ctime()))"
   ]
  },
  {
   "cell_type": "code",
   "execution_count": null,
   "metadata": {},
   "outputs": [],
   "source": [
    "mtslepp3()"
   ]
  },
  {
   "cell_type": "code",
   "execution_count": null,
   "metadata": {},
   "outputs": [],
   "source": [
    "def mtslepp4():\n",
    "    print('starting at: {}'.format(ctime()))\n",
    "    threads = []\n",
    "    nloops = range(len(loops))\n",
    "    \n",
    "    for i in nloops:\n",
    "        t = MyThread(loop,(i, loops[i]), loop.__name__)\n",
    "        threads.append(t)\n",
    "    \n",
    "    for i in nloops:        # start threads start之后就join 线程变成有序 启动时间也不是并行\n",
    "        threads[i].start()\n",
    "        threads[i].join()\n",
    "        \n",
    "    print('all DONE at: {}'.format(ctime()))"
   ]
  },
  {
   "cell_type": "code",
   "execution_count": null,
   "metadata": {},
   "outputs": [],
   "source": [
    "mtslepp4()"
   ]
  },
  {
   "cell_type": "markdown",
   "metadata": {},
   "source": [
    "#### 斐波那契 阶乘和累加和"
   ]
  },
  {
   "cell_type": "code",
   "execution_count": null,
   "metadata": {},
   "outputs": [],
   "source": [
    "def fib(x):\n",
    "    sleep(0.005)\n",
    "    if x < 2: return 1\n",
    "    return (fib(x-2) + fib(x-1))\n",
    "\n",
    "def fac(x):\n",
    "    sleep(0.1)\n",
    "    if x < 2: return 1\n",
    "    return (x * fac(x-1))\n",
    "\n",
    "def sum(x):\n",
    "    sleep(0.1)\n",
    "    if x < 2: return 1\n",
    "    return (x + sum(x-1))\n",
    "\n",
    "funcs = [fib, fac, sum]\n",
    "\n",
    "n = 12"
   ]
  },
  {
   "cell_type": "code",
   "execution_count": null,
   "metadata": {},
   "outputs": [],
   "source": [
    "def mix_single_thread():\n",
    "    nfuncs = range(len(funcs))\n",
    "    \n",
    "    for i in nfuncs:\n",
    "        print('starting {} at:{}'.format(funcs[i].__name__, ctime()))\n",
    "        print(funcs[i](n))\n",
    "        print('{} finished at:{}'.format(funcs[i].__name__, ctime()))"
   ]
  },
  {
   "cell_type": "code",
   "execution_count": null,
   "metadata": {},
   "outputs": [],
   "source": [
    "def mix_multiple_threads():\n",
    "    threads = []\n",
    "    nfuncs = range(len(funcs))\n",
    "    \n",
    "    for i in nfuncs:\n",
    "        t = MyThread(funcs[i], (n,), funcs[i].__name__)\n",
    "        threads.append(t)\n",
    "    \n",
    "    for i in nfuncs:\n",
    "        threads[i].start()\n",
    "        \n",
    "    for i in nfuncs:\n",
    "        threads[i].join()\n",
    "        print(threads[i].getResult())\n",
    "    \n",
    "    print('all DONE')"
   ]
  },
  {
   "cell_type": "code",
   "execution_count": null,
   "metadata": {},
   "outputs": [],
   "source": [
    "mix_single_thread()"
   ]
  },
  {
   "cell_type": "code",
   "execution_count": null,
   "metadata": {},
   "outputs": [],
   "source": [
    "mix_multiple_threads()"
   ]
  },
  {
   "cell_type": "markdown",
   "metadata": {},
   "source": [
    "#### 生产者-消费者问题和Queue模块"
   ]
  },
  {
   "cell_type": "markdown",
   "metadata": {},
   "source": [
    "Queue模块可以用来进行线程间通讯，让各个线程之间共享数据，现在我们要创建一个队列，让生产者把新生产的货物放进去供消费者使用。queue内部实现了相关的锁"
   ]
  },
  {
   "cell_type": "code",
   "execution_count": null,
   "metadata": {},
   "outputs": [],
   "source": [
    "from random import randint\n",
    "from queue import Queue # python3 中 Queue 改名为 queue"
   ]
  },
  {
   "cell_type": "code",
   "execution_count": null,
   "metadata": {},
   "outputs": [],
   "source": [
    "def writeQ(queue):\n",
    "    print('producing object for Q...')\n",
    "    queue.put('xxx', 1)  # put(item, block=0) Queue对象函数 把item放到队列中 如果block不为0，函数会一直阻塞到队列中有空间为止\n",
    "    print('size now {}'.format(queue.qsize())) # 返回队列大小 \n",
    "\n",
    "def readQ(queue):\n",
    "    val = queue.get(1)   # get(block=0) Queue对象函数 从队列取出对象 如果block不为0，函数会一直阻塞到队列中有对象为止\n",
    "    print('consumed object from Q...')\n",
    "    print('size now {}'.format(queue.qsize()))\n",
    "\n",
    "def writer(queue, loops):\n",
    "    for i in range(loops):\n",
    "        writeQ(queue)\n",
    "        sleep(randint(1, 3))\n",
    "\n",
    "def reader(queue, loops):\n",
    "    for i in range(loops):\n",
    "        readQ(queue)\n",
    "        sleep(randint(2, 5))\n",
    "\n",
    "funcs = [writer, reader]\n",
    "nfuncs = range(len(funcs))"
   ]
  },
  {
   "cell_type": "code",
   "execution_count": null,
   "metadata": {},
   "outputs": [],
   "source": [
    "def pcQuestion():\n",
    "    nloops = randint(2, 5)\n",
    "    q = Queue(32) # 创建大小为32的队列\n",
    "    \n",
    "    threads = []\n",
    "    \n",
    "    for i in nfuncs:\n",
    "        t = MyThread(funcs[i], (q, nloops), funcs[i].__name__)\n",
    "        threads.append(t)\n",
    "        \n",
    "    for i in nfuncs:\n",
    "        threads[i].start()\n",
    "    \n",
    "    for i in nfuncs:\n",
    "        threads[i].join()\n",
    "    \n",
    "    print('all DONE')"
   ]
  },
  {
   "cell_type": "code",
   "execution_count": null,
   "metadata": {},
   "outputs": [],
   "source": [
    "pcQuestion()"
   ]
  },
  {
   "cell_type": "markdown",
   "metadata": {},
   "source": [
    "### 多线程同步机制"
   ]
  },
  {
   "cell_type": "markdown",
   "metadata": {},
   "source": [
    "GIL 的作用是：对于一个解释器，只能有一个thread在执行bytecode。所以每时每刻只有一条bytecode在被执行一个thread。GIL保证了bytecode 这层面上是thread safe的。但是如果你有个操作比如 x += 1，这个操作需要多个bytecodes操作，在执行这个操作的多条bytecodes期间的时候可能中途就换thread了，这样就出现了data races的情况了。"
   ]
  },
  {
   "cell_type": "markdown",
   "metadata": {},
   "source": [
    "#### Lock(锁)"
   ]
  },
  {
   "cell_type": "markdown",
   "metadata": {},
   "source": [
    "1. 如果一个锁的状态是unlocked，调用acquire()方法改变它的状态为locked；\n",
    "2. 如果一个锁的状态是locked，acquire()方法将会阻塞，直到另一个线程调用release()方法释放了锁；\n",
    "3. 如果一个锁的状态是unlocked调用release()会抛出RuntimeError异常；\n",
    "4. 如果一个锁的状态是locked，调用release()方法改变它的状态为unlocked。"
   ]
  },
  {
   "cell_type": "markdown",
   "metadata": {},
   "source": [
    "#### Semaphore（信号量）"
   ]
  },
  {
   "cell_type": "markdown",
   "metadata": {},
   "source": [
    "在多线程编程中，为了防止不同的线程同时对一个公用的资源（比如全部变量）进行修改，需要进行同时访问的数量（通常是1）。信号量同步基于内部计数器，每调用一次acquire()，计数器减1；每调用一次release()，计数器加1.当计数器为0时，acquire()调用被阻塞。"
   ]
  },
  {
   "cell_type": "markdown",
   "metadata": {},
   "source": [
    "#### RLock（可重入锁）"
   ]
  },
  {
   "cell_type": "markdown",
   "metadata": {},
   "source": [
    "acquire() 能够不被阻塞的被同一个线程调用多次。但是要注意的是release()需要调用与acquire()相同的次数才能释放锁。"
   ]
  },
  {
   "cell_type": "markdown",
   "metadata": {},
   "source": [
    "#### Condition（条件）"
   ]
  },
  {
   "cell_type": "markdown",
   "metadata": {},
   "source": [
    "一个线程等待特定条件，而另一个线程发出特定条件满足的信号。最好说明的例子就是「生产者/消费者」模型："
   ]
  },
  {
   "cell_type": "code",
   "execution_count": null,
   "metadata": {},
   "outputs": [],
   "source": [
    "import time\n",
    "import threading\n",
    "\n",
    "def consumer(cond):\n",
    "    t = threading.currentThread()\n",
    "    with cond:\n",
    "        cond.wait()  # wait()方法创建了一个名为waiter的锁，并且设置锁的状态为locked。这个waiter锁用于线程间的通讯\n",
    "        print('{}: Resource is available to consumer'.format(t.name))\n",
    "        \n",
    "def producer(cond):\n",
    "    t = threading.currentThread()\n",
    "    with cond:\n",
    "        print('{}: Making resource available'.format(t.name))\n",
    "        cond.notifyAll()  # 释放waiter锁，唤醒消费者\n",
    "        \n",
    "condition = threading.Condition()\n",
    "\n",
    "c1 = threading.Thread(name='c1', target=consumer, args=(condition,))\n",
    "c2 = threading.Thread(name='c2', target=consumer, args=(condition,))\n",
    "p = threading.Thread(name='p', target=producer, args=(condition,))"
   ]
  },
  {
   "cell_type": "code",
   "execution_count": null,
   "metadata": {},
   "outputs": [],
   "source": [
    "c1.start()\n",
    "time.sleep(1)\n",
    "c2.start()\n",
    "time.sleep(1)\n",
    "p.start()"
   ]
  },
  {
   "cell_type": "markdown",
   "metadata": {},
   "source": [
    "#### Event"
   ]
  },
  {
   "cell_type": "markdown",
   "metadata": {},
   "source": [
    "一个线程发送/传递事件，另外的线程等待事件的触发。我们同样的用「生产者/消费者」模型的例子:"
   ]
  },
  {
   "cell_type": "markdown",
   "metadata": {},
   "source": [
    "### 使用future处理并发"
   ]
  },
  {
   "cell_type": "code",
   "execution_count": null,
   "metadata": {},
   "outputs": [],
   "source": [
    "from time import sleep, strftime\n",
    "from concurrent import futures"
   ]
  },
  {
   "cell_type": "code",
   "execution_count": null,
   "metadata": {},
   "outputs": [],
   "source": [
    "def display(*args):\n",
    "    print(strftime('[%H:%M:%S]'),end=' ')\n",
    "    print(*args)"
   ]
  },
  {
   "cell_type": "code",
   "execution_count": null,
   "metadata": {},
   "outputs": [],
   "source": [
    "def loiter(n):\n",
    "    msg = '{}loiter({}): doing noting for {}s...'\n",
    "    display(msg.format('\\t'*n, n, n))\n",
    "    sleep(n)\n",
    "    msg = '{}loiter({}): done.'\n",
    "    display(msg.format('\\t'*n, n))\n",
    "    return n * 10"
   ]
  },
  {
   "cell_type": "code",
   "execution_count": null,
   "metadata": {},
   "outputs": [],
   "source": [
    "def main():\n",
    "    display('Script Starting')\n",
    "    executor = futures.ThreadPoolExecutor(max_workers=3)\n",
    "    results = executor.map(loiter, range(5))\n",
    "    display('results: ', results)\n",
    "    display('waiting....')\n",
    "    for i, result in enumerate(results):\n",
    "        display('result {}:{}'.format(i, result))"
   ]
  },
  {
   "cell_type": "code",
   "execution_count": null,
   "metadata": {},
   "outputs": [],
   "source": [
    "main()"
   ]
  },
  {
   "cell_type": "markdown",
   "metadata": {},
   "source": [
    "ThreadPoolExecutor.map 函数返回结果的顺序和调用开始的顺序一致 <br>\n",
    "executor.submit 和 futures.as_completed 这个组合比 map更加零活 <br>\n",
    "因为submit可以处理不同的可调用对象 而map只能针对参数不同的同一个可调用对象 <br>\n",
    "此外 futures.as_completed函数的future集合可以来自多个Executor实例 ThreadPoolExecutor和ProcessPoolExecutor"
   ]
  },
  {
   "cell_type": "markdown",
   "metadata": {},
   "source": [
    "#### TQDM进度条"
   ]
  },
  {
   "cell_type": "code",
   "execution_count": null,
   "metadata": {},
   "outputs": [],
   "source": [
    "from tqdm import tqdm\n",
    "for i in tqdm(range(100)):\n",
    "    sleep(0.1)"
   ]
  },
  {
   "cell_type": "code",
   "execution_count": 55,
   "metadata": {},
   "outputs": [],
   "source": [
    "def simple(n):\n",
    "    sleep(n)\n",
    "    return n"
   ]
  },
  {
   "cell_type": "code",
   "execution_count": 67,
   "metadata": {},
   "outputs": [],
   "source": [
    "def runsimple():\n",
    "    simplelist = []\n",
    "    with futures.ThreadPoolExecutor(5) as executor:\n",
    "        for i in range(10):\n",
    "            e = executor.submit(simple, i)\n",
    "            simplelist.append(e)\n",
    "        results = futures.as_completed(simplelist)\n",
    "        print(len(list(results)))\n",
    "        for l in results:\n",
    "            print(l.result())"
   ]
  },
  {
   "cell_type": "code",
   "execution_count": 68,
   "metadata": {},
   "outputs": [
    {
     "name": "stdout",
     "output_type": "stream",
     "text": [
      "10\n"
     ]
    }
   ],
   "source": [
    "runsimple()"
   ]
  },
  {
   "cell_type": "markdown",
   "metadata": {},
   "source": [
    "futures.as_completed返回一个迭代器 当使用for循环迭代时 as_completed只返回已经运行结束的future"
   ]
  }
 ],
 "metadata": {
  "kernelspec": {
   "display_name": "Python 3",
   "language": "python",
   "name": "python3"
  },
  "language_info": {
   "codemirror_mode": {
    "name": "ipython",
    "version": 3
   },
   "file_extension": ".py",
   "mimetype": "text/x-python",
   "name": "python",
   "nbconvert_exporter": "python",
   "pygments_lexer": "ipython3",
   "version": "3.7.0"
  }
 },
 "nbformat": 4,
 "nbformat_minor": 2
}
