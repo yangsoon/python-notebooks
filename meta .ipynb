{
 "cells": [
  {
   "cell_type": "markdown",
   "metadata": {},
   "source": [
    "## 元编程\n",
    "当使用点号访问属性(或者是 调用`getattr` `setattr`)失败时候，调用 `__getattr__` 和 `__setattr__`来计算属性"
   ]
  },
  {
   "cell_type": "code",
   "execution_count": 2,
   "metadata": {},
   "outputs": [
    {
     "name": "stdout",
     "output_type": "stream",
     "text": [
      "233 xxx\n"
     ]
    }
   ],
   "source": [
    "class test:\n",
    "    a = 233\n",
    "    def __getattr__(self, name):\n",
    "        return name\n",
    "t = test()\n",
    "print(t.a, t.xxx)"
   ]
  },
  {
   "cell_type": "markdown",
   "metadata": {},
   "source": [
    "with语句可以使用两个上下文管理器"
   ]
  },
  {
   "cell_type": "markdown",
   "metadata": {},
   "source": [
    "构建实例的特殊方法是 `__new__` 是一个类方法"
   ]
  },
  {
   "cell_type": "markdown",
   "metadata": {},
   "source": [
    "对`__dict__`操作添加一堆属性"
   ]
  },
  {
   "cell_type": "code",
   "execution_count": 5,
   "metadata": {},
   "outputs": [
    {
     "name": "stdout",
     "output_type": "stream",
     "text": [
      "1 2\n"
     ]
    }
   ],
   "source": [
    "class test:\n",
    "    def __init__(self, **kwargs):\n",
    "        self.__dict__.update(kwargs)\n",
    "d = {'a':1,'b':2}\n",
    "t = test(**d)\n",
    "print(t.a,t.b)"
   ]
  },
  {
   "cell_type": "markdown",
   "metadata": {},
   "source": [
    "**特性会覆盖实例属性** <br>\n",
    "特性都是类属性，但是特性管理的其实是实例属性的读取 <br>\n",
    "实例属性遮盖类的数据属性,实例属性不会遮盖类特性 <br>\n",
    "`obj.attr` 这样的表达式不会从`obj`开始寻找`attr` 而是从`obj.__class__`开始 而且仅当类中没有名为`attr`的特性时，才会在对象实例中寻找。 <br>\n",
    "**这条规则不仅适用于特性 还适用于一整类描述符 覆盖型描述符**"
   ]
  },
  {
   "cell_type": "code",
   "execution_count": 29,
   "metadata": {},
   "outputs": [],
   "source": [
    "class test:\n",
    "    \n",
    "    def __init__(self, w):\n",
    "        self.w = w\n",
    "    \n",
    "    @property\n",
    "    def w(self):\n",
    "        return self.__w\n",
    "    \n",
    "    @w.setter\n",
    "    def w(self, v):\n",
    "        if v > 0:\n",
    "            self.__w = v\n",
    "        else:\n",
    "            raise ValueError('w must > 0')"
   ]
  },
  {
   "cell_type": "markdown",
   "metadata": {},
   "source": [
    "### 处理属性的重要属性和函数"
   ]
  },
  {
   "cell_type": "code",
   "execution_count": 36,
   "metadata": {},
   "outputs": [],
   "source": [
    "t = test(1)"
   ]
  },
  {
   "cell_type": "markdown",
   "metadata": {},
   "source": [
    "**影响属性处理方式的特殊属性**"
   ]
  },
  {
   "cell_type": "markdown",
   "metadata": {},
   "source": [
    "1 `__class__`对象所属类的引用 `obj.__class__`与`type(obj)`作用相同"
   ]
  },
  {
   "cell_type": "markdown",
   "metadata": {},
   "source": [
    "2 `__dict__`一个映射 存储对象或类的可写属性"
   ]
  },
  {
   "cell_type": "markdown",
   "metadata": {},
   "source": [
    "3 `__slots__`类可以定义这个属性限制实例能有哪些属性。是一个字符串组成的元组，指明允许有的属性 如果没有`__dict__`那么该类的实例就没有`__dict__`属性"
   ]
  },
  {
   "cell_type": "markdown",
   "metadata": {},
   "source": [
    "**处理属性的特殊方法** <br>\n",
    "**假定特殊方法是从类中获取**\n",
    "使用点号或者内置的`getattr` `hasattr` `setattr`函数存取属性都会出发下述列表中相应的特殊方法，但是通过`__dict__`属性进行读写属性时候 不会触发这些特殊方法，因此可以使用这种方法跳过这些特殊方法, 假设一个类`Class`的实例对象为`obj`"
   ]
  },
  {
   "cell_type": "markdown",
   "metadata": {},
   "source": [
    "1 `__delattr__(self, name)` 只要使用del语句删除属性就会调用这个方法 `ex`: `del obj.attr`语法触发`Class.__delattr(obj, 'attr)`"
   ]
  },
  {
   "cell_type": "markdown",
   "metadata": {},
   "source": [
    "2 `__getattr__`仅当获取属性失败，已经搜索过`obj Class`和超类之后调用"
   ]
  },
  {
   "cell_type": "markdown",
   "metadata": {},
   "source": [
    "3 `obj.attr`或`getattr(obj, 'attr', 42)`都会触发`Class.__getattribute__(obj, 'attr')` 当尝试获取指定属性时调用 当寻找的属性是特殊属性或特殊方法时除外。"
   ]
  },
  {
   "cell_type": "markdown",
   "metadata": {},
   "source": [
    "重写该方法容易出现无限递归的错误"
   ]
  },
  {
   "cell_type": "markdown",
   "metadata": {},
   "source": [
    "4 `__setattr__`设定属性值"
   ]
  },
  {
   "cell_type": "code",
   "execution_count": null,
   "metadata": {},
   "outputs": [],
   "source": []
  }
 ],
 "metadata": {
  "kernelspec": {
   "display_name": "Python 3",
   "language": "python",
   "name": "python3"
  },
  "language_info": {
   "codemirror_mode": {
    "name": "ipython",
    "version": 3
   },
   "file_extension": ".py",
   "mimetype": "text/x-python",
   "name": "python",
   "nbconvert_exporter": "python",
   "pygments_lexer": "ipython3",
   "version": "3.7.0"
  }
 },
 "nbformat": 4,
 "nbformat_minor": 2
}
