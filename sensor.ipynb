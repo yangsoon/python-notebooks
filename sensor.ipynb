{
 "cells": [
  {
   "cell_type": "markdown",
   "metadata": {},
   "source": [
    "## 感知器\n",
    "为了理解神经网络，我们应该先理解神经网络的组成单元——神经元。神经元也叫做感知器。"
   ]
  },
  {
   "cell_type": "code",
   "execution_count": 56,
   "metadata": {},
   "outputs": [],
   "source": [
    "class Perceptron:\n",
    "    \n",
    "    def __init__(self, input_num, activator):\n",
    "        self.activator = activator\n",
    "        self.weights = [0.0 for _ in range(input_num)]\n",
    "        self.bias = 0.0\n",
    "        \n",
    "    def __str__(self):\n",
    "        return f\"weights:{list(self.weights)} bias:{self.bias}\"\n",
    "    \n",
    "    def predict(self, input_vec):\n",
    "        iw = zip(input_vec, self.weights)\n",
    "        sum_res = sum(map(lambda item: item[0] + item[1], iw))\n",
    "        return self.activator(sum_res)\n",
    "    \n",
    "    def _update_weights(self, input_vec, output, label, rate):\n",
    "        delta = label - output\n",
    "        self.weights = list(map(lambda item: item[1] + rate * delta * item[0], zip(input_vec, self.weights)))\n",
    "        self.bias += rate * delta\n",
    "\n",
    "    def _one_iteration(self, input_vecs, labels, rate):\n",
    "        samples = zip(input_vecs, labels)\n",
    "        for input_vec, label in samples:\n",
    "            output = self.predict(input_vec)\n",
    "            self._update_weights(input_vec, output, label, rate)\n",
    "            \n",
    "    def train(self, input_vecs, labels, iteration, rate):\n",
    "        for i in range(iteration):\n",
    "            self._one_iteration(input_vecs, labels, rate)"
   ]
  },
  {
   "cell_type": "code",
   "execution_count": 57,
   "metadata": {},
   "outputs": [],
   "source": [
    "def f(x):\n",
    "    return 1 if  x > 0 else 0\n",
    "\n",
    "def get_training_dataset():    \n",
    "    input_vecs = [[1,1],[0,0],[1,0],[0,1]]\n",
    "    labels = [1, 0, 0, 0]\n",
    "    return input_vecs, labels\n",
    "\n",
    "def train_and_perceptron():\n",
    "    p = Perceptron(2, f)\n",
    "    input_vecs, labels = get_training_dataset()\n",
    "    p.train(input_vecs, labels, 10, 0.1)\n",
    "    return p\n",
    "\n",
    "def main():\n",
    "    and_perception = train_and_perceptron()\n",
    "    print(and_perception)\n",
    "    print(and_perception.predict([1,1]))\n",
    "    print(and_perception.predict([0,1]))\n",
    "    print(and_perception.predict([1,0]))\n",
    "    print(and_perception.predict([0,0]))"
   ]
  },
  {
   "cell_type": "code",
   "execution_count": 1,
   "metadata": {},
   "outputs": [
    {
     "ename": "NameError",
     "evalue": "name 'main' is not defined",
     "output_type": "error",
     "traceback": [
      "\u001b[0;31m---------------------------------------------------------------------------\u001b[0m",
      "\u001b[0;31mNameError\u001b[0m                                 Traceback (most recent call last)",
      "\u001b[0;32m<ipython-input-1-263240bbee7e>\u001b[0m in \u001b[0;36m<module>\u001b[0;34m()\u001b[0m\n\u001b[0;32m----> 1\u001b[0;31m \u001b[0mmain\u001b[0m\u001b[0;34m(\u001b[0m\u001b[0;34m)\u001b[0m\u001b[0;34m\u001b[0m\u001b[0m\n\u001b[0m",
      "\u001b[0;31mNameError\u001b[0m: name 'main' is not defined"
     ]
    }
   ],
   "source": [
    "main()"
   ]
  },
  {
   "cell_type": "markdown",
   "metadata": {},
   "source": [
    "## 线性单元和梯度下降"
   ]
  },
  {
   "cell_type": "code",
   "execution_count": null,
   "metadata": {},
   "outputs": [],
   "source": []
  }
 ],
 "metadata": {
  "kernelspec": {
   "display_name": "Python 3",
   "language": "python",
   "name": "python3"
  },
  "language_info": {
   "codemirror_mode": {
    "name": "ipython",
    "version": 3
   },
   "file_extension": ".py",
   "mimetype": "text/x-python",
   "name": "python",
   "nbconvert_exporter": "python",
   "pygments_lexer": "ipython3",
   "version": "3.7.0"
  }
 },
 "nbformat": 4,
 "nbformat_minor": 2
}
