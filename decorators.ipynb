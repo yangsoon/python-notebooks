{
 "cells": [
  {
   "cell_type": "markdown",
   "metadata": {},
   "source": [
    "### 装饰器\n",
    "装饰器的一个关键特性 他们在被装饰的函数定义之后立即执行\n",
    "通常是被导入时 执行"
   ]
  },
  {
   "cell_type": "code",
   "execution_count": 3,
   "metadata": {},
   "outputs": [],
   "source": [
    "registry = []\n",
    "\n",
    "def deco(func):\n",
    "    registry.append(func)\n",
    "    return func\n",
    "\n",
    "@deco\n",
    "def test():\n",
    "    print('test is runing')\n",
    "\n",
    "def t_main():\n",
    "    print(registry)\n",
    "    test()"
   ]
  },
  {
   "cell_type": "code",
   "execution_count": 4,
   "metadata": {},
   "outputs": [
    {
     "name": "stdout",
     "output_type": "stream",
     "text": [
      "[<function test at 0x10bacf8c8>]\n",
      "test is runing\n"
     ]
    }
   ],
   "source": [
    "t_main()"
   ]
  },
  {
   "cell_type": "code",
   "execution_count": null,
   "metadata": {},
   "outputs": [],
   "source": []
  }
 ],
 "metadata": {
  "kernelspec": {
   "display_name": "Python 3",
   "language": "python",
   "name": "python3"
  },
  "language_info": {
   "codemirror_mode": {
    "name": "ipython",
    "version": 3
   },
   "file_extension": ".py",
   "mimetype": "text/x-python",
   "name": "python",
   "nbconvert_exporter": "python",
   "pygments_lexer": "ipython3",
   "version": "3.6.4"
  }
 },
 "nbformat": 4,
 "nbformat_minor": 2
}
