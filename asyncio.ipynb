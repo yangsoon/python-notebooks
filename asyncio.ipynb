{
 "cells": [
  {
   "cell_type": "markdown",
   "metadata": {},
   "source": [
    "## 在asyncio中使用阻塞调用"
   ]
  },
  {
   "cell_type": "code",
   "execution_count": null,
   "metadata": {},
   "outputs": [],
   "source": [
    "import asyncio\n",
    "from time import sleep, strftime\n",
    "from concurrent import futures\n",
    "def blocked(t):\n",
    "    print(strftime('[%H:%M:%S]'),end=' ')\n",
    "    print('{} sleep:{}s....'.format(t, t))\n",
    "    sleep(t)\n",
    "    print(strftime('[%H:%M:%S]'),end=' ')\n",
    "    print('{} finished'.format(t))\n",
    "\n",
    "async def main():\n",
    "    with futures.ThreadPoolExecutor(max_workers=5) as executor:\n",
    "        loop = asyncio.get_event_loop()\n",
    "        future = (loop.run_in_executor(executor, blocked, i) for i in range(1,6))\n",
    "        for reslut in await asyncio.gather(*future):\n",
    "            pass\n",
    "    \n",
    "loop = asyncio.get_event_loop()\n",
    "loop.run_until_complete(main())"
   ]
  },
  {
   "cell_type": "markdown",
   "metadata": {},
   "source": [
    "### 事件循环\n",
    "事件循环是asyncio提供的中央执行设备"
   ]
  },
  {
   "cell_type": "code",
   "execution_count": null,
   "metadata": {},
   "outputs": [],
   "source": []
  }
 ],
 "metadata": {
  "kernelspec": {
   "display_name": "Python 3",
   "language": "python",
   "name": "python3"
  },
  "language_info": {
   "codemirror_mode": {
    "name": "ipython",
    "version": 3
   },
   "file_extension": ".py",
   "mimetype": "text/x-python",
   "name": "python",
   "nbconvert_exporter": "python",
   "pygments_lexer": "ipython3",
   "version": "3.6.4"
  }
 },
 "nbformat": 4,
 "nbformat_minor": 2
}
