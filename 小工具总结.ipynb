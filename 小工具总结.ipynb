{
 "cells": [
  {
   "cell_type": "markdown",
   "metadata": {
    "slideshow": {
     "slide_type": "slide"
    }
   },
   "source": [
    "<center><h1>小工具总结</h2></center>\n",
    "\n",
    "1. jupyter notebook/lab\n",
    "2. 多功能的网页ppt\n",
    "3. code2img\n",
    "4. 一句话创建FTP服务\n",
    "5. tmux 保持会话 分屏\n",
    "6. when-changed\n",
    "7. ranger(终端软件管理器)"
   ]
  },
  {
   "cell_type": "code",
   "execution_count": 1,
   "metadata": {},
   "outputs": [
    {
     "data": {
      "text/plain": [
       "2"
      ]
     },
     "execution_count": 1,
     "metadata": {},
     "output_type": "execute_result"
    }
   ],
   "source": [
    "1+1"
   ]
  },
  {
   "cell_type": "markdown",
   "metadata": {
    "slideshow": {
     "slide_type": "slide"
    }
   },
   "source": [
    "### jupyter\n",
    "\n",
    "交互式笔记本，支持多种语言 python、c、java、scala等，允许使用markdown记录笔记，还支持latex语法。\n",
    "\n",
    "```\n",
    "pip install ipython\n",
    "pip install jupyterlab\n",
    "```\n"
   ]
  },
  {
   "cell_type": "markdown",
   "metadata": {
    "slideshow": {
     "slide_type": "subslide"
    }
   },
   "source": [
    "<img src=\"http://ww1.sinaimg.cn/large/006r0i4lly1fxz9t4up6vj32e81iy1kx.jpg\"/>"
   ]
  },
  {
   "cell_type": "markdown",
   "metadata": {
    "slideshow": {
     "slide_type": "subslide"
    }
   },
   "source": [
    "### RISE\n",
    "\n",
    "RISE: \"Live\" Reveal.js Jupyter/IPython Slideshow Extension <br>\n",
    "\n",
    "目前只支持jupyter notebook <br>\n",
    "\n",
    "```\n",
    "pip install RISE\n",
    "jupyter-nbextension enable rise --py --sys-prefix\n",
    "```\n",
    "\n",
    "`View` -> `Cell Toolbar` -> `Slideshow`"
   ]
  },
  {
   "cell_type": "markdown",
   "metadata": {
    "slideshow": {
     "slide_type": "subslide"
    }
   },
   "source": [
    "### Code2Img\n",
    "优美的展示你的code [https://carbon.now.sh/](https://carbon.now.sh/)"
   ]
  },
  {
   "cell_type": "markdown",
   "metadata": {
    "slideshow": {
     "slide_type": "subslide"
    }
   },
   "source": [
    "<img src=\"http://ww1.sinaimg.cn/large/006r0i4lly1fxza23i452j32e81iykea.jpg\"/>"
   ]
  },
  {
   "cell_type": "markdown",
   "metadata": {
    "slideshow": {
     "slide_type": "subslide"
    }
   },
   "source": [
    "### 一句话创建FTP服务\n",
    "\n",
    "python 支持一句命令创建ftp服务\n",
    "\n",
    "```\n",
    "python -m SimpleHTTPServer\n",
    "```\n",
    "同一局域网下共享数据"
   ]
  },
  {
   "cell_type": "markdown",
   "metadata": {
    "slideshow": {
     "slide_type": "subslide"
    }
   },
   "source": [
    "<img src=\"http://ww1.sinaimg.cn/large/006r0i4lly1fxza6abyoyj32e81iykbf.jpg\"/>"
   ]
  },
  {
   "cell_type": "markdown",
   "metadata": {
    "slideshow": {
     "slide_type": "subslide"
    }
   },
   "source": [
    "### tmux 保持会话 分屏\n",
    "断线重连\n",
    "```\n",
    "tmux new -s test\n",
    "tmux a -t test\n",
    "```"
   ]
  },
  {
   "cell_type": "markdown",
   "metadata": {
    "slideshow": {
     "slide_type": "subslide"
    }
   },
   "source": [
    "<img src=\"http://ww1.sinaimg.cn/large/006r0i4lly1fxzae0xqzvj32e81iy1ky.jpg\"/>"
   ]
  },
  {
   "cell_type": "markdown",
   "metadata": {
    "slideshow": {
     "slide_type": "subslide"
    }
   },
   "source": [
    "### when-changed\n",
    "```\n",
    "pip install when-changed\n",
    "```\n",
    "当监听到文件修改时，自动执行指定的代码"
   ]
  },
  {
   "cell_type": "markdown",
   "metadata": {
    "slideshow": {
     "slide_type": "subslide"
    }
   },
   "source": [
    "<img src=\"http://ww1.sinaimg.cn/large/006r0i4lly1fxzasgh0fsj32e81iyu0x.jpg\"/>"
   ]
  },
  {
   "cell_type": "markdown",
   "metadata": {
    "slideshow": {
     "slide_type": "subslide"
    }
   },
   "source": [
    "### ranger\n",
    "linux终端文件管理器\n",
    "像使用vim一样管理文件"
   ]
  },
  {
   "cell_type": "markdown",
   "metadata": {
    "slideshow": {
     "slide_type": "subslide"
    }
   },
   "source": [
    "<img src=\"http://ww1.sinaimg.cn/large/006r0i4lly1fy3oikqethj30wp0ozgt4.jpg\"/>"
   ]
  }
 ],
 "metadata": {
  "celltoolbar": "Slideshow",
  "kernelspec": {
   "display_name": "Python 3",
   "language": "python",
   "name": "python3"
  },
  "language_info": {
   "codemirror_mode": {
    "name": "ipython",
    "version": 3
   },
   "file_extension": ".py",
   "mimetype": "text/x-python",
   "name": "python",
   "nbconvert_exporter": "python",
   "pygments_lexer": "ipython3",
   "version": "3.7.0"
  }
 },
 "nbformat": 4,
 "nbformat_minor": 2
}
