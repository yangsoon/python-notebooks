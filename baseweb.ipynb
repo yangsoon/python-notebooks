{
 "cells": [
  {
   "cell_type": "markdown",
   "metadata": {},
   "source": [
    "### 一个原始的网络会话"
   ]
  },
  {
   "cell_type": "code",
   "execution_count": 9,
   "metadata": {},
   "outputs": [],
   "source": [
    "import socket\n",
    "request_text = \"\"\"\\\n",
    "GET / HTTP/1.1\\r\\n\n",
    "Host: localhost:5000\\r\\n\n",
    "Connection: keep-alive\\r\\n\n",
    "Upgrade-Insecure-Requests: 1\\r\\n\n",
    "User-Agent: Mozilla/5.0 (Macintosh; Intel Mac OS X 10_13_3) AppleWebKit/537.36 (KHTML, like Gecko) Chrome/64.0.3282.186 Safari/537.36\\r\\n\n",
    "\\r\\n\n",
    "\"\"\"\n",
    "def getjson():\n",
    "    sock = socket.socket()\n",
    "    sock.connect(('127.0.0.1', 5000))\n",
    "    sock.sendall(request_text.encode('ascii'))\n",
    "    raw_reply = b''\n",
    "    while True:\n",
    "        more = sock.recv(4096)\n",
    "        if not more:\n",
    "            break\n",
    "        raw_reply += more\n",
    "    print(raw_reply.decode('utf-8'))"
   ]
  },
  {
   "cell_type": "code",
   "execution_count": 10,
   "metadata": {},
   "outputs": [
    {
     "name": "stdout",
     "output_type": "stream",
     "text": [
      "HTTP/1.0 200 OK\n",
      "Content-Type: application/json\n",
      "Content-Length: 61\n",
      "Server: Werkzeug/0.14.1 Python/3.6.4\n",
      "Date: Sun, 11 Mar 2018 07:23:41 GMT\n",
      "\n",
      "{\n",
      "  \"a\": 1, \n",
      "  \"b\": 2, \n",
      "  \"c\": [\n",
      "    1, \n",
      "    2, \n",
      "    3\n",
      "  ]\n",
      "}\n",
      "\n"
     ]
    }
   ],
   "source": [
    "getjson()"
   ]
  },
  {
   "cell_type": "code",
   "execution_count": null,
   "metadata": {},
   "outputs": [],
   "source": []
  }
 ],
 "metadata": {
  "kernelspec": {
   "display_name": "Python 3",
   "language": "python",
   "name": "python3"
  },
  "language_info": {
   "codemirror_mode": {
    "name": "ipython",
    "version": 3
   },
   "file_extension": ".py",
   "mimetype": "text/x-python",
   "name": "python",
   "nbconvert_exporter": "python",
   "pygments_lexer": "ipython3",
   "version": "3.6.4"
  }
 },
 "nbformat": 4,
 "nbformat_minor": 2
}
